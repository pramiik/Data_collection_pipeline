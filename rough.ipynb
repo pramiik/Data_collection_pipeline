{
 "cells": [
  {
   "cell_type": "code",
   "execution_count": null,
   "metadata": {},
   "outputs": [],
   "source": [
    "import selenium"
   ]
  },
  {
   "cell_type": "code",
   "execution_count": null,
   "metadata": {},
   "outputs": [],
   "source": [
    "from selenium.webdriver import Chrome"
   ]
  },
  {
   "cell_type": "code",
   "execution_count": null,
   "metadata": {},
   "outputs": [],
   "source": [
    "driver = Chrome()\n",
    "driver.get('https://www.goodreads.com/')\n",
    "\n",
    "\n",
    "'''\n",
    "search_bar = driver.find_element_by_xpath('/html/body/div[2]/div[2]/div[1]/div[1]/div[2]/div[4]/div[1]/div/div[2]/form/div/input')\n",
    "\n",
    "search_bar.click()\n",
    "search_bar.send_keys('stephen king')\n",
    "\n",
    "search = driver.find_element_by_xpath('/html/body/div[2]/div[2]/div[1]/div[1]/div[2]/div[4]/div[1]/div/div[2]/form/a/img')\n",
    "search.click()\n",
    "'''"
   ]
  },
  {
   "cell_type": "code",
   "execution_count": null,
   "metadata": {},
   "outputs": [],
   "source": [
    "\n",
    "\n",
    "'''\n",
    "        \n",
    "        search_bar = self.driver.find_element_by_xpath('/html/body/div[2]/div[2]/div[1]/div[1]/div[2]/div[4]/div[1]/div/div[2]/form/div/input')\n",
    "\n",
    "        search_bar.click()\n",
    "        search_bar.send_keys('stephen king')\n",
    "\n",
    "\n",
    "bot = scraper()\n",
    "bot = scraper.click_search_bar()\n",
    "\n",
    "   '''\n",
    "\n"
   ]
  }
 ],
 "metadata": {
  "language_info": {
   "name": "python"
  },
  "orig_nbformat": 4
 },
 "nbformat": 4,
 "nbformat_minor": 2
}
