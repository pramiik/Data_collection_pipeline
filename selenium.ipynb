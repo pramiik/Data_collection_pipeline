{
 "cells": [
  {
   "cell_type": "code",
   "execution_count": 1,
   "metadata": {},
   "outputs": [],
   "source": [
    "from scraper import scraper\n",
    "\n",
    "bot = scraper()\n",
    "bot.click_search_bar()\n"
   ]
  },
  {
   "cell_type": "code",
   "execution_count": 2,
   "metadata": {},
   "outputs": [],
   "source": [
    "\n",
    "bot.search()\n",
    "bot.click_search_button()\n"
   ]
  },
  {
   "cell_type": "code",
   "execution_count": 3,
   "metadata": {},
   "outputs": [],
   "source": [
    "bot.close_login_popup()\n"
   ]
  },
  {
   "cell_type": "code",
   "execution_count": 4,
   "metadata": {},
   "outputs": [],
   "source": [
    "container = bot.finding_containers()"
   ]
  },
  {
   "cell_type": "code",
   "execution_count": 5,
   "metadata": {},
   "outputs": [
    {
     "data": {
      "text/plain": [
       "20"
      ]
     },
     "execution_count": 5,
     "metadata": {},
     "output_type": "execute_result"
    }
   ],
   "source": [
    "from selenium.webdriver import chrome\n",
    "from selenium.webdriver.common.keys import Keys\n",
    "from selenium.webdriver.common.by import By\n",
    "from selenium.webdriver.support.ui import WebDriverWait\n",
    "from selenium.webdriver.support import expected_conditions as EC\n",
    "from selenium.common.exceptions import TimeoutException\n",
    "\n",
    "list_books = container.find_elements(By.XPATH, '//tr')#/td[2]/a[@class=\"bookTitle\"]')\n",
    "len(list_books)\n",
    "\n",
    "#get_attribute \n",
    "#/html/body/div[2]/div[3]/div[1]/div[2]/div[2]/table/tbody/tr[1]/td[2]/a\n",
    "# './' indicates the first children, so it'll look for the children in the direct children. \n",
    "#  if we use .// then it looks for the tag all over the code."
   ]
  },
  {
   "cell_type": "markdown",
   "metadata": {},
   "source": [
    "# Find the container containing all of the links you want \n",
    "# Print the length of the list of webelements \n",
    "# If you get 20, then you should be getting what you want. \n",
    "# For each of those webelements, use the get_attribute method to extract the href of each of those webelements. \n",
    "\n",
    "//tr/td[2]/a[@class=\"bookTitle\"]"
   ]
  },
  {
   "cell_type": "code",
   "execution_count": 7,
   "metadata": {},
   "outputs": [
    {
     "data": {
      "text/plain": [
       "'It\\nby Stephen King (Goodreads Author)\\n4.25 avg rating — 936,737 ratings — published 1986 — 337 editions\\nWant to Read\\nRate this book\\n1 of 5 stars\\n2 of 5 stars\\n3 of 5 stars\\n4 of 5 stars\\n5 of 5 stars\\nGet a copy'"
      ]
     },
     "execution_count": 7,
     "metadata": {},
     "output_type": "execute_result"
    }
   ],
   "source": [
    "list_books[1].text"
   ]
  },
  {
   "cell_type": "code",
   "execution_count": 8,
   "metadata": {},
   "outputs": [],
   "source": [
    "list_urls = []\n",
    "\n",
    "for books in list_books:\n",
    "    list_urls.append(books.find_element(By.TAG_NAME, 'a').get_attribute('href'))\n",
    "    \n"
   ]
  },
  {
   "cell_type": "code",
   "execution_count": 19,
   "metadata": {},
   "outputs": [],
   "source": [
    "info_dict = {\n",
    "                'urls' :[],\n",
    "                'book title' :[],\n",
    "                'author name' :[],\n",
    "                'rating' :[],\n",
    "                'book description' :[]\n",
    "                }\n",
    "\n",
    "for urls in list_urls[0:20]:\n",
    "\n",
    "    bot.driver.get(urls)\n",
    "    info_dict['urls'].append(urls)\n",
    "\n",
    "    book_title = bot.driver.find_element(By.XPATH, '//*[@id=\"bookTitle\"]')\n",
    "    info_dict['book title'].append(book_title.text)\n",
    "\n",
    "    author_name = bot.driver.find_element(By.XPATH, '//*[@id=\"bookAuthors\"]')\n",
    "    info_dict['author name'].append(author_name.text)\n",
    "\n",
    "    rating = bot.driver.find_element(By.XPATH, '//*[@id=\"bookMeta\"]/span[2]')\n",
    "    info_dict['rating'].append(rating.text)\n",
    "\n",
    "    book_description = bot.driver.find_element(By.XPATH, '//*[@id=\"descriptionContainer\"]')\n",
    "    info_dict['book description'].append(book_description.text)\n",
    "    \n",
    "\n"
   ]
  },
  {
   "cell_type": "code",
   "execution_count": 21,
   "metadata": {},
   "outputs": [
    {
     "data": {
      "text/plain": [
       "{'urls': ['https://www.goodreads.com/book/show/11588.The_Shining?from_search=true&from_srp=true&qid=2KpwvUejhY&rank=1',\n",
       "  'https://www.goodreads.com/book/show/830502.It?from_search=true&from_srp=true&qid=2KpwvUejhY&rank=2',\n",
       "  'https://www.goodreads.com/book/show/10614.Misery?from_search=true&from_srp=true&qid=2KpwvUejhY&rank=3',\n",
       "  'https://www.goodreads.com/book/show/149267.The_Stand?from_search=true&from_srp=true&qid=2KpwvUejhY&rank=4',\n",
       "  'https://www.goodreads.com/book/show/43615.The_Gunslinger?from_search=true&from_srp=true&qid=2KpwvUejhY&rank=5',\n",
       "  'https://www.goodreads.com/book/show/10592.Carrie?from_search=true&from_srp=true&qid=2KpwvUejhY&rank=6',\n",
       "  'https://www.goodreads.com/book/show/10644930-11-22-63?from_search=true&from_srp=true&qid=2KpwvUejhY&rank=7',\n",
       "  'https://www.goodreads.com/book/show/10612.The_Stephen_King_Universe?from_search=true&from_srp=true&qid=2KpwvUejhY&rank=8',\n",
       "  'https://www.goodreads.com/book/show/11566.The_Green_Mile?from_search=true&from_srp=true&qid=2KpwvUejhY&rank=9',\n",
       "  'https://www.goodreads.com/book/show/11590._Salem_s_Lot?from_search=true&from_srp=true&qid=2KpwvUejhY&rank=10',\n",
       "  'https://www.goodreads.com/book/show/10569.On_Writing?from_search=true&from_srp=true&qid=2KpwvUejhY&rank=11',\n",
       "  'https://www.goodreads.com/book/show/36124936-the-outsider?from_search=true&from_srp=true&qid=2KpwvUejhY&rank=12',\n",
       "  'https://www.goodreads.com/book/show/6320534-under-the-dome?from_search=true&from_srp=true&qid=2KpwvUejhY&rank=13',\n",
       "  'https://www.goodreads.com/book/show/18775247-mr-mercedes?from_search=true&from_srp=true&qid=2KpwvUejhY&rank=14',\n",
       "  'https://www.goodreads.com/book/show/16130549-doctor-sleep?from_search=true&from_srp=true&qid=2KpwvUejhY&rank=15',\n",
       "  'https://www.goodreads.com/book/show/33124137-pet-sematary?from_search=true&from_srp=true&qid=2KpwvUejhY&rank=16',\n",
       "  'https://www.goodreads.com/book/show/5094.The_Drawing_of_the_Three?from_search=true&from_srp=true&qid=2KpwvUejhY&rank=17',\n",
       "  'https://www.goodreads.com/book/show/10603.Cujo?from_search=true&from_srp=true&qid=2KpwvUejhY&rank=18',\n",
       "  'https://www.goodreads.com/book/show/43798285-the-institute?from_search=true&from_srp=true&qid=2KpwvUejhY&rank=19',\n",
       "  'https://www.goodreads.com/book/show/10629.Christine?from_search=true&from_srp=true&qid=2KpwvUejhY&rank=20'],\n",
       " 'book title': ['The Shining',\n",
       "  'It',\n",
       "  'Misery',\n",
       "  'The Stand',\n",
       "  'The Gunslinger',\n",
       "  'Carrie',\n",
       "  '11/22/63',\n",
       "  'The Stephen King Universe: A Guide to the Worlds of the King of Horror',\n",
       "  'The Green Mile',\n",
       "  \"'Salem's Lot\",\n",
       "  'On Writing: A Memoir of the Craft',\n",
       "  'The Outsider',\n",
       "  'Under the Dome',\n",
       "  'Mr. Mercedes',\n",
       "  'Doctor Sleep',\n",
       "  'Pet Sematary',\n",
       "  'The Drawing of the Three',\n",
       "  'Cujo',\n",
       "  'The Institute',\n",
       "  'Christine'],\n",
       " 'author name': ['by Stephen King (Goodreads Author)',\n",
       "  'by Stephen King (Goodreads Author)',\n",
       "  'by Stephen King (Goodreads Author)',\n",
       "  'by Stephen King (Goodreads Author), Bernie Wrightson (Illustrator)',\n",
       "  'by Stephen King (Goodreads Author)',\n",
       "  'by Stephen King (Goodreads Author), Sissy Spacek (Translation)',\n",
       "  'by Stephen King (Goodreads Author)',\n",
       "  'by Stanley Wiater, Christopher Golden (Goodreads Author), Hank Wagner',\n",
       "  'by Stephen King (Goodreads Author)',\n",
       "  'by Stephen King (Goodreads Author)',\n",
       "  'by Stephen King (Goodreads Author)',\n",
       "  'by Stephen King (Goodreads Author)',\n",
       "  'by Stephen King (Goodreads Author)',\n",
       "  'by Stephen King (Goodreads Author)',\n",
       "  'by Stephen King (Goodreads Author)',\n",
       "  'by Stephen King (Goodreads Author)',\n",
       "  'by Stephen King (Goodreads Author)',\n",
       "  'by Stephen King (Goodreads Author)',\n",
       "  'by Stephen King (Goodreads Author)',\n",
       "  'by Stephen King (Goodreads Author), Marie Milpois (Translator)'],\n",
       " 'rating': ['4.25',\n",
       "  '4.25',\n",
       "  '4.19',\n",
       "  '4.34',\n",
       "  '3.94',\n",
       "  '3.98',\n",
       "  '4.31',\n",
       "  '4.16',\n",
       "  '4.46',\n",
       "  '4.04',\n",
       "  '4.32',\n",
       "  '3.99',\n",
       "  '3.91',\n",
       "  '3.98',\n",
       "  '4.12',\n",
       "  '4.03',\n",
       "  '4.22',\n",
       "  '3.75',\n",
       "  '4.20',\n",
       "  '3.81'],\n",
       " 'book description': [\"Jack Torrance's new job at the Overlook Hotel is the perfect chance for a fresh start. As the off-season caretaker at the atmospheric old hotel, he'll have plenty of time to spend reconnecting with his family and working on his writing. But as the harsh winter weather sets in, the idyllic location feels ever more remote...and more sinister. And the only one to notice the s ...more\",\n",
       "  'Welcome to Derry, Maine ...\\n\\nIt’s a small city, a place as hauntingly familiar as your own hometown. Only in Derry the haunting is real ...\\n\\nThey were seven teenagers when they first stumbled upon the horror. Now they are grown-up men and women who have gone out into the big world to gain success and happiness. But none of them can withstand the force that has drawn them back\\n\\n\\n\\n...more',\n",
       "  \"Alternate cover editions here and here.\\n\\nPaul Sheldon. He's a bestselling novelist who has finally met his biggest fan. Her name is Annie Wilkes and she is more than a rabid reader - she is Paul's nurse, tending his shattered body after an automobile accident. But she is also his captor, keeping him prisoner in her isolated house.\\n\\n...more\",\n",
       "  'When a man escapes from a biological testing facility, he sets in motion a deadly domino effect, spreading a mutated strain of the flu that will wipe out 99 percent of humanity within a few weeks. The survivors who remain are scared, bewildered, and in need of a leader. Two emerge–Mother Abagail, the benevolent 108-year-old woman who urges them to build a peaceful communit ...more',\n",
       "  'In the first book of this brilliant series, Stephen King introduces readers to one of his most enigmatic heroes, Roland of Gilead, The Last Gunslinger. He is a haunting figure, a loner on a spellbinding journey into good and evil. In his desolate world, which frighteningly mirrors our own, Roland pursues The Man in Black, encounters an alluring woman named Alice, and begin ...more',\n",
       "  'A modern classic, Carrie introduced a distinctive new voice in American fiction -- Stephen King. The story of misunderstood high school girl Carrie White, her extraordinary telekinetic powers, and her violent rampage of revenge, remains one of the most barrier-breaking and shocking novels of all time.\\n\\nMake a date with terror and live the nightmare that is...Carrie\\n--back cov\\n\\n\\n...more',\n",
       "  'On November 22, 1963, three shots rang out in Dallas, President Kennedy died, and the world changed. What if you could change it back? Stephen King’s heart-stoppingly dramatic new novel is about a man who travels back in time to prevent the JFK assassination—a thousand page tour de force. Following his massively successful novel Under the Dome, King sweeps readers back in\\n\\n\\n\\n...more',\n",
       "  '\"I am coming to understand that Roland\\'s world actually contains all the others of my making\" \\x97Stephen King\\nWith those words, from The Dark Tower: IV Wizard and Glass, the world\\'s most popular writer confirmed a suspicion long held by readers\\x97that the myriad worlds and universes King has created are, in reality, one world, one universe.\\nHere, for the first time ever is the g\\n\\n\\n\\n\\n\\n\\n\\n\\n\\n\\n\\n\\n\\n\\n\\n\\n\\n\\n\\n\\n\\n\\n\\n\\n\\n\\n\\n\\n\\n\\n\\n\\n\\n\\n\\n\\n\\n\\n\\n\\n\\n\\n\\n\\n\\n\\n\\n\\n\\n\\n\\n...more',\n",
       "  \"When it first appeared, one volume per month, Stephen King's THE GREEN MILE was an unprecedented publishing triumph: all six volumes ended up on the New York Times bestseller lists—simultaneously—and delighted millions of fans the world over.\\n\\nWelcome to Cold Mountain Penitentiary, home to the Depression-worn men of E Block. Convicted killers all, each awaits his turn to wal\\n\\n...more\",\n",
       "  \"Thousands of miles away from the small township of 'Salem's Lot, two terrified people, a man and a boy, still share the secrets of those clapboard houses and tree-lined streets. They must return to 'Salem's Lot for a final confrontation with the unspeakable evil that lives on in the town. ...more\",\n",
       "  '\"Long live the King\" hailed Entertainment Weekly upon the publication of Stephen King\\'s On Writing. Part memoir, part master class by one of the bestselling authors of all time, this superb volume is a revealing and practical view of the writer\\'s craft, comprising the basic tools of the trade every writer must have. King\\'s advice is grounded in his vivid memories from chil\\n...more',\n",
       "  'An unspeakable crime. A confounding investigation. At a time when the King brand has never been stronger, he has delivered one of his most unsettling and compulsively readable stories.\\n\\nAn eleven-year-old boy’s violated corpse is found in a town park. Eyewitnesses and fingerprints point unmistakably to one of Flint City’s most popular citizens. He is Terry Maitland, Little L\\n\\n\\n\\n...more',\n",
       "  'On an entirely normal, beautiful fall day in Chester’s Mill, Maine, the town is inexplicably and suddenly sealed off from the rest of the world by an invisible force field. Planes crash into it and fall from the sky in flaming wreckage, a gardener’s hand is severed as “the dome” comes down on it, people running errands in the neighboring town are divided from their familie\\n\\n\\n...more',\n",
       "  'In the predawn hours, in a distressed American city, hundreds of unemployed men and women line up for the opening of a job fair. They are tired and cold and desperate. Emerging from the fog, invisible until it is too late, a lone driver plows through the crowd in a stolen Mercedes, running over the innocent, backing up, and charging again. Eight people are killed; fifteen\\n\\n\\n\\n\\n\\n\\n...more',\n",
       "  'Stephen King returns to the characters and territory of one of his most popular novels ever, The Shining, in this instantly riveting novel about the now middle-aged Dan Torrance (the boy protagonist of The Shining) and the very special 12-year-old girl he must save from a tribe of murderous paranormals.\\n\\nOn highways across America, a tribe of people called The True Knot trav\\n\\n\\n\\n\\n\\n...more',\n",
       "  \"'This is an alternate Cover Edition for ASIN: B00K3NEE56. When the Creeds move into a beautiful old house in rural Maine, it all seems too good to be true: physician father, beautiful wife, charming little daughter, adorable infant son-and now an idyllic home. As a family, they've got it all...right down to the friendly car. But the nearby woods hide a blood-chilling truth ...more\",\n",
       "  'While pursuing his quest for the Dark Tower through a world that is a nightmarishly distorted mirror image of our own, Roland, the last gunslinger, encounters three mysterious doorways on the beach. Each one enters into the life of a different person living in contemporary New York.\\n\\nHere he links forces with the defiant young Eddie Dean and the beautiful, brilliant, and br\\n\\n\\n\\n...more',\n",
       "  'Durante toda su vida Cujo fue un buen perro, un San Bernardo grandote, pacífico, juguetón y amante de los niños. Realmente se trataba de un perro bueno y feliz. Feliz hasta que le sucedió algo, y el cerebro de perro de Cujo se cubrió de una de esas oscuridades que se alimentan de sangre. Ahora, se ha convertido en un perro asesino; doblemente cruel por cuanto la gente no c\\n\\n...more',\n",
       "  'In the middle of the night, in a house on a quiet street in suburban Minneapolis, intruders silently murder Luke Ellis’s parents and load him into a black SUV. The operation takes less than two minutes. Luke will wake up at The Institute, in a room that looks just like his own, except there’s no window. And outside his door are other doors, behind which are other kids with\\n\\n...more',\n",
       "  'Master storyteller Stephen King presents the classic #1 national bestseller of the ultimate vehicle of terror!\\n\\n“This is the story of a lover’s triangle…It was bad from the start. And it got worse in a hurry.”\\n\\nIt’s love at first sight for high school student Arnie Cunningham when he and his best friend Dennis Guilder spot the dilapidated 1958 red-and-white Plymouth Fury for\\n\\n\\n\\n...more']}"
      ]
     },
     "execution_count": 21,
     "metadata": {},
     "output_type": "execute_result"
    }
   ],
   "source": [
    "info_dict"
   ]
  }
 ],
 "metadata": {
  "interpreter": {
   "hash": "4f77f66f7e6696f1ddc190b944d805f09f35bc5ddda9b42e9ab4ac8a03c889de"
  },
  "kernelspec": {
   "display_name": "Python 3.9.7 ('selenium')",
   "language": "python",
   "name": "python3"
  },
  "language_info": {
   "codemirror_mode": {
    "name": "ipython",
    "version": 3
   },
   "file_extension": ".py",
   "mimetype": "text/x-python",
   "name": "python",
   "nbconvert_exporter": "python",
   "pygments_lexer": "ipython3",
   "version": "3.9.7"
  },
  "orig_nbformat": 4
 },
 "nbformat": 4,
 "nbformat_minor": 2
}
